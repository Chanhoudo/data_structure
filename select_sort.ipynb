{
  "nbformat": 4,
  "nbformat_minor": 0,
  "metadata": {
    "colab": {
      "provenance": []
    },
    "kernelspec": {
      "name": "python3",
      "display_name": "Python 3"
    },
    "language_info": {
      "name": "python"
    }
  },
  "cells": [
    {
      "cell_type": "code",
      "execution_count": 3,
      "metadata": {
        "colab": {
          "base_uri": "https://localhost:8080/"
        },
        "id": "Uylj4VMqCx71",
        "outputId": "941cedf9-d8cd-4037-beaf-7a529b96f8de"
      },
      "outputs": [
        {
          "output_type": "stream",
          "name": "stdout",
          "text": [
            "[]\n",
            "[1, 2, 3, 4, 5, 6, 7, 8, 9]\n"
          ]
        }
      ],
      "source": [
        "list_1 = [5,3,8,4,9,1,6,2,7]\n",
        "list_2 = []\n",
        "\n",
        "\n",
        "while list_1 != []:\n",
        "  min = list_1[0]\n",
        "  min_index = 0\n",
        "  for j in range(1,len(list_1)):\n",
        "    if min > list_1[j]:\n",
        "      min = list_1[j]\n",
        "      min_index = j\n",
        "  list_2.append(list_1.pop(min_index))\n",
        "\n",
        "\n",
        "print(list_1)\n",
        "print(list_2)"
      ]
    },
    {
      "cell_type": "code",
      "source": [
        "list_1 = [5,3,8,4,9,1,6,2,7]\n",
        "\n",
        "\n",
        "for i in range(len(list_1)):\n",
        "  min = list_1[i]\n",
        "  min_index = i\n",
        "  for j in range(i,len(list_1)):\n",
        "    if min > list_1[j]:\n",
        "      min = list_1[j]\n",
        "      min_index = j\n",
        "  list_1[min_index] = list_1[i]\n",
        "  list_1[i] = min\n",
        "\n",
        "\n",
        "print(list_1)"
      ],
      "metadata": {
        "colab": {
          "base_uri": "https://localhost:8080/"
        },
        "id": "4SUwaITxFt0E",
        "outputId": "5f8030f5-d1d3-4a17-b91d-82898339b004"
      },
      "execution_count": 6,
      "outputs": [
        {
          "output_type": "stream",
          "name": "stdout",
          "text": [
            "[1, 2, 3, 4, 5, 6, 7, 8, 9]\n"
          ]
        }
      ]
    }
  ]
}