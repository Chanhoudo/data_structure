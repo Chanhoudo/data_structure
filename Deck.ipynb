{
  "nbformat": 4,
  "nbformat_minor": 0,
  "metadata": {
    "colab": {
      "provenance": []
    },
    "kernelspec": {
      "name": "python3",
      "display_name": "Python 3"
    },
    "language_info": {
      "name": "python"
    }
  },
  "cells": [
    {
      "cell_type": "code",
      "source": [
        "MAX_QSIZE = 10\n",
        "class CircularQueue :\n",
        "  def __init__( self ) :\n",
        "    self.front = 0\n",
        "    self.rear = 0\n",
        "    self.items = [None] * MAX_QSIZE\n",
        "  def isEmpty( self ) : return self.front == self.rear\n",
        "  def isFull( self ) : return self.front == (self.rear+1)%MAX_QSIZE\n",
        "  def clear( self ) : self.front = self.rear\n",
        "  def enqueue( self, item ):\n",
        "    if not self.isFull():\n",
        "      self.rear = (self.rear+1)% MAX_QSIZE\n",
        "      self.items[self.rear] = item\n",
        "  def dequeue( self ):\n",
        "    if not self.isEmpty():\n",
        "      self.front = (self.front+1)% MAX_QSIZE\n",
        "      return self.items[self.front]\n",
        "  def peek( self ):\n",
        "    if not self.isEmpty():\n",
        "      return self.items[(self.front + 1) % MAX_QSIZE]\n",
        "  def size( self ) :\n",
        "    return (self.rear - self.front + MAX_QSIZE) % MAX_QSIZE\n",
        "  def display( self ):\n",
        "    out = []\n",
        "    if self.front < self.rear :\n",
        "      out = self.items[self.front+1:self.rear+1]\n",
        "    else:\n",
        "      out = self.items[self.front+1:MAX_QSIZE] \\\n",
        "      + self.items[0:self.rear+1]\n",
        "    print(\"[f=%s,r=%d] ==> \"%(self.front, self.rear), out)"
      ],
      "metadata": {
        "id": "0BL3TPhL07lE"
      },
      "execution_count": 13,
      "outputs": []
    },
    {
      "cell_type": "code",
      "execution_count": 14,
      "metadata": {
        "colab": {
          "base_uri": "https://localhost:8080/"
        },
        "id": "rmLVfgpqy9P0",
        "outputId": "3baac630-bafd-415d-9180-68b74e8921dd"
      },
      "outputs": [
        {
          "output_type": "stream",
          "name": "stdout",
          "text": [
            "[f=0,r=2] ==>  [10, 20]\n",
            "[f=8,r=2] ==>  [40, 30, 10, 20]\n",
            "[f=9,r=2] ==>  [30, 10, 20]\n",
            "[f=9,r=1] ==>  [30, 10]\n"
          ]
        },
        {
          "output_type": "execute_result",
          "data": {
            "text/plain": [
              "10"
            ]
          },
          "metadata": {},
          "execution_count": 14
        }
      ],
      "source": [
        "class Dequeue(CircularQueue):\n",
        "  def __init__(self):\n",
        "    super().__init__()\n",
        "  def addFront(self,x):\n",
        "    self.items[self.front] = x\n",
        "    self.front = (self.front + (MAX_QSIZE - 1)) % MAX_QSIZE\n",
        "  def addRear(self,x):\n",
        "    self.enqueue(x)\n",
        "  def deleteFront(self):\n",
        "    self.dequeue()\n",
        "  def deleteRear(self):\n",
        "    if not self.isEmpty():\n",
        "      item = self.items[self.rear]\n",
        "      self.rear = (self.rear - 1 + MAX_QSIZE) % MAX_QSIZE\n",
        "      return item\n",
        "  def getFront(self):\n",
        "    self.peek()\n",
        "  def getRear(self):\n",
        "    if not self.isEmpty():\n",
        "      return self.items[(self.rear)]\n",
        "\n",
        "dequeue = Dequeue()\n",
        "\n",
        "dequeue.addRear(10)\n",
        "dequeue.addRear(20)\n",
        "dequeue.display()\n",
        "\n",
        "dequeue.addFront(30)\n",
        "dequeue.addFront(40)\n",
        "dequeue.display()\n",
        "\n",
        "dequeue.deleteFront()\n",
        "dequeue.display()\n",
        "dequeue.deleteRear()\n",
        "dequeue.display()\n",
        "\n",
        "dequeue.getFront()\n",
        "dequeue.getRear()"
      ]
    },
    {
      "cell_type": "code",
      "source": [
        "class Node:\n",
        "  def __init__(self, data, link = None):\n",
        "    self.data = data\n",
        "    self.link = link\n",
        "\n",
        "class List:\n",
        "  def __init__(self):\n",
        "    self.top = None\n",
        "  def isEmpty(self):\n",
        "    return self.top == None\n",
        "  def insert(self, pos, e):\n",
        "    target = self.top\n",
        "    for i in range(pos-1):\n",
        "      if target.link == None:\n",
        "        print(\"비어있어 있는\", i+1, \"위치에 노드를 생성합니다.\")\n",
        "        target.link = Node(e, None)\n",
        "    if self.top == None:\n",
        "      item = Node(e, None)\n",
        "      self.top = item\n",
        "    else:\n",
        "      item = Node(e, target.link)\n",
        "      target.link = item\n",
        "      self.top = item\n",
        "\n",
        "  def display(self):\n",
        "    target = self.top\n",
        "    while target != None:\n",
        "      print(target.data, end = \" \")\n",
        "      target = target.link\n",
        "\n",
        "\n",
        "list_ = List()\n",
        "list_.insert(0, 1)\n",
        "list_.insert(0, 3)\n",
        "\n",
        "list_.display()\n",
        ""
      ],
      "metadata": {
        "colab": {
          "base_uri": "https://localhost:8080/"
        },
        "id": "7Jb1LK79Ztbf",
        "outputId": "9c39e36d-b03a-45a0-fff4-7b0d5ee21a8a"
      },
      "execution_count": 23,
      "outputs": [
        {
          "output_type": "stream",
          "name": "stdout",
          "text": [
            "3 "
          ]
        }
      ]
    },
    {
      "cell_type": "code",
      "source": [],
      "metadata": {
        "id": "ymmiHIKndNIR"
      },
      "execution_count": null,
      "outputs": []
    }
  ]
}